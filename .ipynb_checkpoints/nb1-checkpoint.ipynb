{
 "cells": [
  {
   "cell_type": "markdown",
   "metadata": {},
   "source": [
    "# Factor analysis of nonverbal behavior\n",
    "\n"
   ]
  },
  {
   "cell_type": "code",
   "execution_count": 5,
   "metadata": {},
   "outputs": [
    {
     "name": "stdout",
     "output_type": "stream",
     "text": [
      "[1] \"You have  R version 3.6.1 (2019-07-05) . This project was created with R version 3.5.2 (2018-12-20). Some packages may not install or work properly\"\n"
     ]
    },
    {
     "data": {
      "text/html": [
       "'/Users/micamccall/anaconda3/envs/r_env/lib/R/library'"
      ],
      "text/latex": [
       "'/Users/micamccall/anaconda3/envs/r\\_env/lib/R/library'"
      ],
      "text/markdown": [
       "'/Users/micamccall/anaconda3/envs/r_env/lib/R/library'"
      ],
      "text/plain": [
       "[1] \"/Users/micamccall/anaconda3/envs/r_env/lib/R/library\""
      ]
     },
     "metadata": {},
     "output_type": "display_data"
    }
   ],
   "source": [
    "req <- readLines(\"requirements.txt\")\n",
    "proj_version <- \"R version 3.6.1 (2019-07-05)\"\n",
    "p<-.libPaths()\n",
    "`%notin%` <- Negate(`%in%`)\n",
    "if (proj_version != version$version.string){\n",
    "  print(paste(\"You have \", version$version.string, \". This project was created with R version 3.5.2 (2018-12-20). Some packages may not install or work properly\"))\n",
    "} else {\n",
    "  print(\"You have the same version of R as was used in this project\")\n",
    "}"
   ]
  },
  {
   "cell_type": "code",
   "execution_count": null,
   "metadata": {},
   "outputs": [
    {
     "name": "stdout",
     "output_type": "stream",
     "text": [
      "[1] \"Attaching package: tidyr\"\n",
      "[1] \"Attaching package: psych\"\n",
      "[1] \"Attaching package: GPArotation\"\n"
     ]
    },
    {
     "name": "stderr",
     "output_type": "stream",
     "text": [
      "Warning message:\n",
      "“package ‘unzip’ is not available (for R version 3.6.1)”"
     ]
    },
    {
     "name": "stdout",
     "output_type": "stream",
     "text": [
      "[1] \"Error installing  unzip . Check Warnings.\"\n"
     ]
    },
    {
     "name": "stderr",
     "output_type": "stream",
     "text": [
      "also installing the dependencies ‘pcaPP’, ‘flexmix’, ‘prabclus’, ‘vcd’, ‘ranger’, ‘cvTools’, ‘rrcov’, ‘fpc’, ‘GGally’, ‘kernlab’, ‘mclust’, ‘sROC’, ‘VIM’, ‘zCompositions’, ‘SparseM’, ‘MatrixModels’, ‘sp’, ‘openxlsx’, ‘minqa’, ‘nloptr’, ‘RcppEigen’, ‘DEoptimR’, ‘sgeostat’, ‘robCompositions’, ‘webshot’, ‘carData’, ‘abind’, ‘pbkrtest’, ‘quantreg’, ‘maptools’, ‘rio’, ‘lme4’, ‘nortest’, ‘moments’, ‘robustbase’, ‘mvoutlier’, ‘energy’, ‘kableExtra’, ‘car’\n",
      "\n"
     ]
    }
   ],
   "source": [
    "for (i in 1:length(req)){\n",
    "  pkg<-req[[i]]\n",
    "  if (pkg %notin% rownames(installed.packages())){\n",
    "    install.packages(pkg, p)\n",
    "  }\n",
    "  if (pkg %in% rownames(installed.packages()) & pkg %notin% loadedNamespaces()){\n",
    "    library(pkg, character.only = T)\n",
    "    print(paste(\"Attaching package:\", pkg))\n",
    "  }\n",
    "  if (pkg %notin% rownames(installed.packages())){\n",
    "    print(paste(\"Error installing \", pkg, \". Check Warnings.\"))\n",
    "  }\n",
    "}"
   ]
  },
  {
   "cell_type": "code",
   "execution_count": 6,
   "metadata": {},
   "outputs": [],
   "source": [
    "messy_data<-read.delim(\"NIS_data/data.csv\", na.strings = c(\"\", \"NA\"))"
   ]
  },
  {
   "cell_type": "code",
   "execution_count": 7,
   "metadata": {},
   "outputs": [],
   "source": [
    "NIS_clean<-messy_data[1:5000, ]%>% #take just the first 5,000 observations of this massive dataset\n",
    "  select(c(\"Q1\", \"Q2\", \"Q3\",\"Q4\", \"Q5\", \"Q6\", \"Q7\",  \"Q8\",  \"Q9\",  \"Q10\", \"Q11\", \"Q12\", \"Q13\", \"Q14\", \"Q15\", \"Q16\", \"Q17\", \"Q18\", \"Q19\", \"Q20\", \"Q21\", \"Q22\", \"Q23\", \"Q24\", \"Q25\", \"Q26\", \"VCL1\", \"VCL2\", \"VCL3\", \"VCL4\", \"VCL5\", \"VCL6\", \"VCL7\", \"VCL8\", \"VCL9\",  \"VCL10\",  \"VCL11\", \"VCL12\",  \"VCL13\", \"VCL14\", \"VCL15\",  \"VCL16\"))%>% #select the actual columns, as well as the word recognition columns \n",
    "  filter_at(vars(c(\"VCL6\", \"VCL9\",\"VCL12\")), all_vars(.==0))%>% #these three variables are not real words. This keeps only observations where only all three were marked as unknown.\n",
    "  filter_at(vars(starts_with(\"Q\")), all_vars(.!=0))%>% #0 is not a valid option in the 1-5 likert scale for NIS items. This keeps only observations where none of the Qs were answered with 0.\n",
    "  select(starts_with(\"Q\"))%>% #retains only the NIS questions\n",
    "  mutate_all(as.numeric)"
   ]
  },
  {
   "cell_type": "code",
   "execution_count": 8,
   "metadata": {
    "scrolled": true
   },
   "outputs": [
    {
     "ename": "ERROR",
     "evalue": "Error in mvn(NIS_clean[1:5000, ], mvnTest = \"hz\", multivariatePlot = \"qq\"): could not find function \"mvn\"\n",
     "output_type": "error",
     "traceback": [
      "Error in mvn(NIS_clean[1:5000, ], mvnTest = \"hz\", multivariatePlot = \"qq\"): could not find function \"mvn\"\nTraceback:\n"
     ]
    }
   ],
   "source": [
    "mvn(NIS_clean[1:5000, ], mvnTest = \"hz\", multivariatePlot = \"qq\") "
   ]
  },
  {
   "cell_type": "code",
   "execution_count": 19,
   "metadata": {},
   "outputs": [
    {
     "ename": "ERROR",
     "evalue": "Error in library(MVN): there is no package called ‘MVN’\n",
     "output_type": "error",
     "traceback": [
      "Error in library(MVN): there is no package called ‘MVN’\nTraceback:\n",
      "1. library(MVN)"
     ]
    }
   ],
   "source": [
    "library(MVN)"
   ]
  },
  {
   "cell_type": "code",
   "execution_count": 20,
   "metadata": {},
   "outputs": [
    {
     "ename": "ERROR",
     "evalue": "Error in library(semPlot): there is no package called ‘semPlot’\n",
     "output_type": "error",
     "traceback": [
      "Error in library(semPlot): there is no package called ‘semPlot’\nTraceback:\n",
      "1. library(semPlot)"
     ]
    }
   ],
   "source": [
    "library(semPlot)"
   ]
  },
  {
   "cell_type": "code",
   "execution_count": null,
   "metadata": {},
   "outputs": [],
   "source": [
    "installed.packages()"
   ]
  },
  {
   "cell_type": "code",
   "execution_count": 22,
   "metadata": {},
   "outputs": [
    {
     "ename": "ERROR",
     "evalue": "Error in eval(expr, envir, enclos): object 'pwd' not found\n",
     "output_type": "error",
     "traceback": [
      "Error in eval(expr, envir, enclos): object 'pwd' not found\nTraceback:\n"
     ]
    }
   ],
   "source": [
    "pwd"
   ]
  },
  {
   "cell_type": "code",
   "execution_count": 23,
   "metadata": {},
   "outputs": [
    {
     "data": {
      "text/html": [
       "'/Users/mccallmv/Documents/r_projects/nonverbal_behavior_FA'"
      ],
      "text/latex": [
       "'/Users/mccallmv/Documents/r\\_projects/nonverbal\\_behavior\\_FA'"
      ],
      "text/markdown": [
       "'/Users/mccallmv/Documents/r_projects/nonverbal_behavior_FA'"
      ],
      "text/plain": [
       "[1] \"/Users/mccallmv/Documents/r_projects/nonverbal_behavior_FA\""
      ]
     },
     "metadata": {},
     "output_type": "display_data"
    }
   ],
   "source": [
    "getwd()"
   ]
  },
  {
   "cell_type": "code",
   "execution_count": null,
   "metadata": {},
   "outputs": [],
   "source": []
  }
 ],
 "metadata": {
  "kernelspec": {
   "display_name": "R",
   "language": "R",
   "name": "ir"
  },
  "language_info": {
   "codemirror_mode": "r",
   "file_extension": ".r",
   "mimetype": "text/x-r-source",
   "name": "R",
   "pygments_lexer": "r",
   "version": "3.6.1"
  }
 },
 "nbformat": 4,
 "nbformat_minor": 2
}
