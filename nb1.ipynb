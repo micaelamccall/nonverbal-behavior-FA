{
 "cells": [
  {
   "cell_type": "code",
   "execution_count": 8,
   "metadata": {},
   "outputs": [],
   "source": [
    "req <- readLines(\"requirements.txt\")\n",
    "proj_version <- \"R version 3.5.2 (2018-12-20)\""
   ]
  },
  {
   "cell_type": "code",
   "execution_count": 9,
   "metadata": {},
   "outputs": [
    {
     "name": "stdout",
     "output_type": "stream",
     "text": [
      "[1] \"You have  R version 3.6.1 (2019-07-05) . This project was created with R version 3.5.2 (2018-12-20). Some packages may not install or work properly\"\n"
     ]
    },
    {
     "name": "stderr",
     "output_type": "stream",
     "text": [
      "\n",
      "Attaching package: ‘dplyr’\n",
      "\n",
      "The following objects are masked from ‘package:stats’:\n",
      "\n",
      "    filter, lag\n",
      "\n",
      "The following objects are masked from ‘package:base’:\n",
      "\n",
      "    intersect, setdiff, setequal, union\n",
      "\n"
     ]
    },
    {
     "name": "stdout",
     "output_type": "stream",
     "text": [
      "[1] \"Attaching package: dplyr\"\n",
      "[1] \"Attaching package: tidyr\"\n"
     ]
    },
    {
     "name": "stderr",
     "output_type": "stream",
     "text": [
      "also installing the dependency ‘mnormt’\n",
      "\n",
      "Updating HTML index of packages in '.Library'\n",
      "Making 'packages.html' ... done\n"
     ]
    },
    {
     "name": "stdout",
     "output_type": "stream",
     "text": [
      "[1] \"Attaching package: psych\"\n"
     ]
    },
    {
     "name": "stderr",
     "output_type": "stream",
     "text": [
      "Updating HTML index of packages in '.Library'\n",
      "Making 'packages.html' ... done\n"
     ]
    },
    {
     "name": "stdout",
     "output_type": "stream",
     "text": [
      "[1] \"Attaching package: GPArotation\"\n"
     ]
    },
    {
     "name": "stderr",
     "output_type": "stream",
     "text": [
      "Warning message:\n",
      "“package ‘unzip’ is not available (for R version 3.6.1)”"
     ]
    },
    {
     "name": "stdout",
     "output_type": "stream",
     "text": [
      "[1] \"Error installing  unzip . Check Warnings.\"\n"
     ]
    },
    {
     "name": "stderr",
     "output_type": "stream",
     "text": [
      "also installing the dependencies ‘modeltools’, ‘lmtest’, ‘mvtnorm’, ‘pcaPP’, ‘flexmix’, ‘prabclus’, ‘diptest’, ‘reshape’, ‘vcd’, ‘laeken’, ‘ranger’, ‘NADA’, ‘truncnorm’, ‘zip’, ‘e1071’, ‘pls’, ‘cvTools’, ‘rrcov’, ‘fpc’, ‘GGally’, ‘kernlab’, ‘mclust’, ‘sROC’, ‘VIM’, ‘zCompositions’, ‘SparseM’, ‘MatrixModels’, ‘sp’, ‘openxlsx’, ‘minqa’, ‘nloptr’, ‘RcppEigen’, ‘DEoptimR’, ‘sgeostat’, ‘robCompositions’, ‘webshot’, ‘carData’, ‘abind’, ‘pbkrtest’, ‘quantreg’, ‘maptools’, ‘rio’, ‘lme4’, ‘nortest’, ‘moments’, ‘robustbase’, ‘mvoutlier’, ‘energy’, ‘kableExtra’, ‘car’\n",
      "\n"
     ]
    }
   ],
   "source": [
    "`%notin%` <- Negate(`%in%`)\n",
    "if (proj_version != version$version.string){\n",
    "  print(paste(\"You have \", version$version.string, \". This project was created with R version 3.5.2 (2018-12-20). Some packages may not install or work properly\"))\n",
    "} else {\n",
    "  print(\"You have the same version of R as was used in this project\")\n",
    "}\n",
    "\n",
    "for (i in 1:length(req)){\n",
    "  pkg<-req[[i]]\n",
    "  if (pkg %notin% rownames(installed.packages())){\n",
    "    install.packages(pkg)\n",
    "  }\n",
    "  if (pkg %in% rownames(installed.packages()) & pkg %notin% loadedNamespaces()){\n",
    "    library(pkg, character.only = T)\n",
    "    print(paste(\"Attaching package:\", pkg))\n",
    "  }\n",
    "  if (pkg %notin% rownames(installed.packages())){\n",
    "    print(paste(\"Error installing \", pkg, \". Check Warnings.\"))\n",
    "  }\n",
    "}"
   ]
  },
  {
   "cell_type": "code",
   "execution_count": 11,
   "metadata": {},
   "outputs": [
    {
     "ename": "ERROR",
     "evalue": "Error in fac$loadings: object of type 'closure' is not subsettable\n",
     "output_type": "error",
     "traceback": [
      "Error in fac$loadings: object of type 'closure' is not subsettable\nTraceback:\n",
      "1. fac$loadings %>% as.table() %>% as.data.frame() %>% filter(Freq >= \n .     0.3 | Freq <= -0.3) %>% arrange(desc(Var2))",
      "2. eval(lhs, parent, parent)",
      "3. eval(lhs, parent, parent)"
     ]
    }
   ],
   "source": [
    "#this saves the factor loadings to a data frame\n",
    "fa_loadings <- fac$loadings%>%\n",
    "  as.table()%>%\n",
    "  as.data.frame()%>%\n",
    "  filter(Freq>=0.3 | Freq<=-0.3)%>%\n",
    "  arrange(desc(Var2))\n",
    "\n",
    "colnames(fa_loadings)<-c(\"Question\", \"Factor\", \"Loading\")"
   ]
  },
  {
   "cell_type": "code",
   "execution_count": null,
   "metadata": {},
   "outputs": [],
   "source": [
    "fa_loadings"
   ]
  },
  {
   "cell_type": "code",
   "execution_count": null,
   "metadata": {},
   "outputs": [],
   "source": []
  }
 ],
 "metadata": {
  "kernelspec": {
   "display_name": "R",
   "language": "R",
   "name": "ir"
  },
  "language_info": {
   "codemirror_mode": "r",
   "file_extension": ".r",
   "mimetype": "text/x-r-source",
   "name": "R",
   "pygments_lexer": "r",
   "version": "3.6.1"
  }
 },
 "nbformat": 4,
 "nbformat_minor": 2
}
